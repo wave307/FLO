{
  "cells": [
    {
      "cell_type": "markdown",
      "metadata": {
        "id": "view-in-github",
        "colab_type": "text"
      },
      "source": [
        "<a href=\"https://colab.research.google.com/github/wave307/FLO/blob/main/flo_app/AI_Agent_for_Structured_Data.ipynb\" target=\"_parent\"><img src=\"https://colab.research.google.com/assets/colab-badge.svg\" alt=\"Open In Colab\"/></a>"
      ]
    },
    {
      "cell_type": "markdown",
      "metadata": {
        "id": "7hcWSEmqL1r0"
      },
      "source": [
        "### Installing all the required packages"
      ]
    },
    {
      "cell_type": "code",
      "execution_count": null,
      "metadata": {
        "id": "n85f0yipKaDr"
      },
      "outputs": [],
      "source": [
        "# !pip install streamlit -q\n",
        "# !pip install pyngrok -q\n",
        "# !pip install langchain -q\n",
        "# !pip install langchain_openai -q\n",
        "# !pip install langchain_community -q\n",
        "# !pip install pymssql -q\n",
        "# !pip install faiss-cpu -q\n",
        "# !npm install localtunnel -q\n",
        "# !pip install sqlalchemy -q\n",
        "# !pip install langgraph -q\n",
        "# !pip install grandalf -q"
      ]
    },
    {
      "cell_type": "markdown",
      "metadata": {
        "id": "R8rdkQMmEeDf"
      },
      "source": [
        "Importing packages and modules required"
      ]
    },
    {
      "cell_type": "code",
      "execution_count": null,
      "metadata": {
        "id": "LNdM2Jl3BnsS"
      },
      "outputs": [],
      "source": [
        "from langchain_openai import ChatOpenAI\n",
        "from langchain_community.utilities import SQLDatabase\n",
        "from langchain_community.vectorstores import FAISS\n",
        "from langchain_core.example_selectors import SemanticSimilarityExampleSelector\n",
        "from langchain_openai import OpenAIEmbeddings\n",
        "from langchain_community.agent_toolkits import create_sql_agent\n",
        "from langchain_core.prompts.few_shot import FewShotPromptTemplate\n",
        "from langchain_core.prompts.prompt import PromptTemplate\n",
        "from langchain_core.prompts.chat import (\n",
        "    ChatPromptTemplate,\n",
        "    SystemMessagePromptTemplate,\n",
        "    AIMessagePromptTemplate,\n",
        "    HumanMessagePromptTemplate,\n",
        ")\n",
        "from langchain_core.prompts.chat import MessagesPlaceholder\n",
        "import os\n",
        "import pandas as pd\n",
        "import sqlalchemy as sa\n",
        "from sqlalchemy.engine import URL\n",
        "from sqlalchemy import create_engine\n",
        "import json\n",
        "import matplotlib.pyplot as plt\n",
        "import numpy as np\n",
        "from typing import List, Any, Annotated, Dict, Optional, Sequence, TypedDict\n",
        "from typing_extensions import TypedDict\n",
        "import operator\n",
        "import functools\n",
        "from langgraph.graph import END, StateGraph, START\n",
        "from typing import Union, Literal\n",
        "from pydantic import BaseModel\n",
        "from langchain.agents import AgentType, Tool, initialize_agent\n",
        "from langchain_core.callbacks.stdout import StdOutCallbackHandler\n",
        "from langchain_core.messages import BaseMessage, AIMessage, AnyMessage, HumanMessage, SystemMessage, ToolMessage\n",
        "from langchain_core.output_parsers import StrOutputParser\n",
        "import datetime"
      ]
    },
    {
      "cell_type": "code",
      "execution_count": null,
      "metadata": {
        "colab": {
          "base_uri": "https://localhost:8080/",
          "height": 36
        },
        "id": "D3uv_BeNCEpI",
        "outputId": "acfa8fd8-ff85-4d95-dc45-c09535625577"
      },
      "outputs": [
        {
          "data": {
            "application/vnd.google.colaboratory.intrinsic+json": {
              "type": "string"
            },
            "text/plain": [
              "'07-November-2024'"
            ]
          },
          "execution_count": 65,
          "metadata": {},
          "output_type": "execute_result"
        }
      ],
      "source": [
        "datetime.date.today().strftime(\"%d-%B-%Y\")"
      ]
    },
    {
      "cell_type": "markdown",
      "metadata": {
        "id": "2_kCq20bEuLU"
      },
      "source": [
        "Instantiating the LLM model"
      ]
    },
    {
      "cell_type": "code",
      "execution_count": null,
      "metadata": {
        "id": "3oYB5x-xEyHD"
      },
      "outputs": [],
      "source": [
        "open_ai_key = \"<Key>\"\n",
        "os.environ['OPENAI_API_KEY'] = open_ai_key\n",
        "llm = ChatOpenAI(model_name='gpt-4o-mini',\n",
        "                     api_key=open_ai_key,\n",
        "                     temperature = 0.3)"
      ]
    },
    {
      "cell_type": "markdown",
      "metadata": {
        "id": "C7M0c9ewE4S5"
      },
      "source": [
        "Setting up the system prompt for the sql agent and examples"
      ]
    },
    {
      "cell_type": "code",
      "execution_count": null,
      "metadata": {
        "id": "rC5tLxcREzNo"
      },
      "outputs": [],
      "source": [
        "examples = [\n",
        "    {\"input\": \"Give me average monthly electricity prices of all sectors for all years\", \"query\": \"SELECT AVG(ALL Sectors) from electricity_prices;\"},\n",
        "]\n",
        "\n",
        "system_prefix = \"\"\"You are an agent designed to interact with a SQL database.\n",
        "Given an input question, create a syntactically correct T-SQL/ Microsoft SQL query to run, then look at the results of the query and return the answer.\n",
        "Unless the user specifies a specific number of examples they wish to obtain, always limit your query to at most 5 results.\n",
        "You can order the results by a relevant column to return the most interesting examples in the database.\n",
        "Never query for all the columns from a specific table, only ask for the relevant columns given the question.\n",
        "You have access to tools for interacting with the database.\n",
        "Only use the given tools. Only use the information returned by the tools to construct your final answer.\n",
        "You MUST double check your query before executing it. If you get an error while executing a query, rewrite the query and try again.\n",
        "\n",
        "DO NOT make any DML statements (INSERT, UPDATE, DELETE, DROP etc.) to the database.\n",
        "\n",
        "Try to answer the question in a full detailed manner with all the information required in it.\n",
        "\n",
        "If the question does not seem related to the database, just return \"I don't know\" as the answer.\n",
        "\n",
        "Here are some examples of user inputs and their corresponding SQL queries:\"\"\""
      ]
    },
    {
      "cell_type": "code",
      "execution_count": null,
      "metadata": {
        "id": "9kiWmeFpFHpi"
      },
      "outputs": [],
      "source": [
        "def set_prompts():\n",
        "    example_selector = SemanticSimilarityExampleSelector.from_examples(\n",
        "    examples,\n",
        "    OpenAIEmbeddings(),\n",
        "    FAISS,\n",
        "    k=5,\n",
        "    input_keys=[\"input\"],)\n",
        "\n",
        "    few_shot_prompt = FewShotPromptTemplate(\n",
        "    example_selector=example_selector,\n",
        "    example_prompt=PromptTemplate.from_template(\n",
        "        \"User input: {input}\\nSQL query: {query}\"\n",
        "    ),\n",
        "    input_variables=[\"input\"],\n",
        "    prefix= system_prefix,\n",
        "    suffix=\"\",)\n",
        "\n",
        "    full_prompt = ChatPromptTemplate.from_messages(\n",
        "    [\n",
        "        SystemMessagePromptTemplate(prompt=few_shot_prompt),\n",
        "        (\"human\", \"{input}\"),\n",
        "        MessagesPlaceholder(\"agent_scratchpad\"),\n",
        "    ])\n",
        "    return full_prompt"
      ]
    },
    {
      "cell_type": "markdown",
      "metadata": {
        "id": "IJWO43NBFKL7"
      },
      "source": [
        "Initialize the agent for use\n",
        "\n"
      ]
    },
    {
      "cell_type": "code",
      "execution_count": null,
      "metadata": {
        "id": "6noKc-rAFO-t"
      },
      "outputs": [],
      "source": [
        "def initialize_agent():\n",
        "    cred = {'server': 'database-flo-event.crk0kymw6bal.eu-north-1.rds.amazonaws.com',\n",
        "     'port' : '1433',\n",
        "     'database': 'FLO_DB',\n",
        "     'username': 'admin',\n",
        "     'password': 'WIZSzRdP0uKdbuMwLzOS'}\n",
        "\n",
        "    connection_url = URL.create(\n",
        "            \"mssql+pymssql\",\n",
        "            username=cred['username'],\n",
        "            password=cred['password'],\n",
        "            host=cred['server'],\n",
        "            database=cred['database'],\n",
        "        )\n",
        "    full_prompt = set_prompts()\n",
        "    engine = create_engine(connection_url)\n",
        "    flo_db = SQLDatabase(engine)\n",
        "    agent = create_sql_agent(\n",
        "                llm=llm,\n",
        "                db=flo_db,\n",
        "                prompt=full_prompt,\n",
        "                verbose=False,\n",
        "                agent_type=\"openai-tools\",\n",
        "            )\n",
        "    return agent\n",
        "\n",
        "agent = initialize_agent()"
      ]
    },
    {
      "cell_type": "markdown",
      "metadata": {
        "id": "O99gzmDQFfHl"
      },
      "source": [
        "Start of graph creation -->"
      ]
    },
    {
      "cell_type": "markdown",
      "metadata": {
        "id": "uUjXfdbGFlZX"
      },
      "source": [
        "Supervisor prompt and listing out the agents and optional paths to use"
      ]
    },
    {
      "cell_type": "code",
      "execution_count": null,
      "metadata": {
        "id": "fHd-arKEFSCr"
      },
      "outputs": [],
      "source": [
        "prompt_message=\"\"\"You are a supervisor tasked with managing a conversation between the following workers: {members}. Given the following user request, respond with the worker to act next. Each worker will perform a task and respond with their results and status. If the conversation is over, respond with 'FINISH'.\n",
        "    - **Sql_agent**: Use this worker for tasks that involve:\n",
        "        - Answering questions that are related to electricity price , electricity sales or electricity consumption.\n",
        "        - Handling queries that require specific data analysis, calculations, or retrieval from structured SQL databases, particularly when it involves electricity related metrics.\n",
        "    - **general_agent**: Use this worker for general query answering.\n",
        "Decision Criteria:\n",
        "- If the query involves structured data points related to electricity and requires a calculation or database lookup, direct it to the **Sql_agent**.\n",
        "- In cases where both agents could be relevant, prioritize the **Sql_agent** for anything related to electricity.\n",
        "Example Decision Flow:\n",
        "- Query: \"Give me average monthly electricity prices of all sectors for all years.\" -> **Sql_agent**\n",
        "- Query: \"Percentage of electriciry geneartion or production by all means in year 2021\" -> **Sql_agent**\n",
        "- Query: \"What is the national animal of India\" -> **general_agent**\n",
        "- Query: \"Write me a python code for 'Hello World'\" -> **general_agent**\n",
        "\"\"\"\n",
        "system_prompt = prompt_message\n",
        "members = [\"Sql_agent\", \"general_agent\"]\n",
        "options = [\"FINISH\"] + members\n",
        "\n",
        "\n",
        "RouteResponseNextType = Union[Literal[\"FINISH\"] , Literal[\"Sql_agent\"], Literal[\"general_agent\"]]\n",
        "\n",
        "class RouteResponse(BaseModel):\n",
        "    next: RouteResponseNextType\n",
        "\n",
        "\n",
        "prompt = ChatPromptTemplate.from_messages(\n",
        "    [\n",
        "        (\"system\", system_prompt),\n",
        "        MessagesPlaceholder(variable_name=\"messages\"),\n",
        "        (\n",
        "            \"system\",\n",
        "            \"Given the conversation above, who should act next?\"\n",
        "            \" Or should we FINISH? Select one of: {options}\",\n",
        "        ),\n",
        "    ]\n",
        ").partial(options=str(options), members=\", \".join(members))\n"
      ]
    },
    {
      "cell_type": "code",
      "execution_count": null,
      "metadata": {
        "id": "i4eBxvTxGAGo"
      },
      "outputs": [],
      "source": [
        "class LLMManager:\n",
        "    def __init__(self):\n",
        "        self.llm = llm\n",
        "\n",
        "    def invoke(self, prompt: ChatPromptTemplate, **kwargs) -> str:\n",
        "        messages = prompt.format_messages(**kwargs)\n",
        "        response = self.llm.invoke(messages)\n",
        "        return response.content\n",
        "llm_manager = LLMManager()"
      ]
    },
    {
      "cell_type": "markdown",
      "metadata": {
        "id": "nCTkY63kGE2_"
      },
      "source": [
        "Prompts and instructions for graph creation and storing it in key value form\n"
      ]
    },
    {
      "cell_type": "code",
      "execution_count": null,
      "metadata": {
        "id": "rdiaAPUZGBiv"
      },
      "outputs": [],
      "source": [
        "barGraphIntstruction = \"\"\"\n",
        "  Where data is: {\n",
        "    labels: string[]\n",
        "    values: {data: number[], label: string}[]\n",
        "  }\n",
        "\n",
        "// Examples of usage:\n",
        "Each label represents a column on the x axis.\n",
        "Each array in values represents a different entity.\n",
        "\n",
        "Here we are looking at average income for each month.\n",
        "1. data = {\n",
        "  labels: ['Jan', 'Feb', 'Mar', 'Apr', 'May', 'Jun'],\n",
        "  values: [{data:[21.5, 25.0, 47.5, 64.8, 105.5, 133.2], label: 'Income'}],\n",
        "}\n",
        "\n",
        "Here we are looking at the performance of american and european players for each series. Since there are two entities, we have two arrays in values.\n",
        "2. data = {\n",
        "  labels: ['series A', 'series B', 'series C'],\n",
        "  values: [{data:[10, 15, 20], label: 'American'}, {data:[20, 25, 30], label: 'European'}],\n",
        "}\n",
        "\"\"\"\n",
        "\n",
        "horizontalBarGraphIntstruction = '''\n",
        "  Where data is: {\n",
        "    labels: string[]\n",
        "    values: {data: number[], label: string}[]\n",
        "  }\n",
        "\n",
        "// Examples of usage:\n",
        "Each label represents a column on the x axis.\n",
        "Each array in values represents a different entity.\n",
        "\n",
        "Here we are looking at average income for each month.\n",
        "1. data = {\n",
        "  labels: ['Jan', 'Feb', 'Mar', 'Apr', 'May', 'Jun'],\n",
        "  values: [{data:[21.5, 25.0, 47.5, 64.8, 105.5, 133.2], label: 'Income'}],\n",
        "}\n",
        "\n",
        "Here we are looking at the performance of american and european players for each series. Since there are two entities, we have two arrays in values.\n",
        "2. data = {\n",
        "  labels: ['series A', 'series B', 'series C'],\n",
        "  values: [{data:[10, 15, 20], label: 'American'}, {data:[20, 25, 30], label: 'European'}],\n",
        "}\n",
        "\n",
        "'''\n",
        "\n",
        "lineGraphIntstruction = '''\n",
        "\n",
        "  Where data is: {\n",
        "  xValues: number[] | string[]\n",
        "  yValues: { data: number[]; label: string }[]\n",
        "}\n",
        "\n",
        "// Examples of usage:\n",
        "\n",
        "Here we are looking at the momentum of a body as a function of mass.\n",
        "1. data = {\n",
        "  xValues: ['2020', '2021', '2022', '2023', '2024'],\n",
        "  yValues: [\n",
        "    { data: [2, 5.5, 2, 8.5, 1.5]},\n",
        "  ],\n",
        "}\n",
        "\n",
        "Here we are looking at the performance of american and european players for each year. Since there are two entities, we have two arrays in yValues.\n",
        "2. data = {\n",
        "  xValues: ['2020', '2021', '2022', '2023', '2024'],\n",
        "  yValues: [\n",
        "    { data: [2, 5.5, 2, 8.5, 1.5], label: 'American' },\n",
        "    { data: [2, 5.5, 2, 8.5, 1.5], label: 'European' },\n",
        "  ],\n",
        "}\n",
        "'''\n",
        "\n",
        "pieChartIntstruction = '''\n",
        "\n",
        "  Where data is: {\n",
        "    labels: string\n",
        "    values: number\n",
        "  }[]\n",
        "\n",
        "// Example usage:\n",
        " data = [\n",
        "        { id: 0, value: 54.81, label: 'Coal' },\n",
        "        { id: 1, value: 60.1, label: 'Neuclear' },\n",
        "        { id: 2, value: 20.01, label: 'Solar' },\n",
        "      ],\n",
        "'''\n",
        "\n",
        "scatterPlotIntstruction = '''\n",
        "Where data is: {\n",
        "  series: {\n",
        "    data: { x: number; y: number; id: number }[]\n",
        "    label: string\n",
        "  }[]\n",
        "}\n",
        "\n",
        "// Examples of usage:\n",
        "1. Here each data array represents the points for a different entity.\n",
        "We are looking for correlation between amount spent and quantity bought for men and women.\n",
        "data = {\n",
        "  series: [\n",
        "    {\n",
        "      data: [\n",
        "        { x: 100, y: 200, id: 1 },\n",
        "        { x: 120, y: 100, id: 2 },\n",
        "        { x: 170, y: 300, id: 3 },\n",
        "      ],\n",
        "      label: 'Men',\n",
        "    },\n",
        "    {\n",
        "      data: [\n",
        "        { x: 300, y: 300, id: 1 },\n",
        "        { x: 400, y: 500, id: 2 },\n",
        "        { x: 200, y: 700, id: 3 },\n",
        "      ],\n",
        "      label: 'Women',\n",
        "    }\n",
        "  ],\n",
        "}\n",
        "\n",
        "2. Here we are looking for correlation between the height and weight of players.\n",
        "data = {\n",
        "  series: [\n",
        "    {\n",
        "      data: [\n",
        "        { x: 180, y: 80, id: 1 },\n",
        "        { x: 170, y: 70, id: 2 },\n",
        "        { x: 160, y: 60, id: 3 },\n",
        "      ],\n",
        "      label: 'Players',\n",
        "    },\n",
        "  ],\n",
        "}\n",
        "\n",
        "// Note: Each object in the 'data' array represents a point on the scatter plot.\n",
        "// The 'x' and 'y' values determine the position of the point, and 'id' is a unique identifier.\n",
        "// Multiple series can be represented, each as an object in the outer array.\n",
        "'''\n",
        "\n",
        "\n",
        "graph_instructions = {\n",
        "    \"bar\": pieChartIntstruction,\n",
        "    \"horizontal_bar\": horizontalBarGraphIntstruction,\n",
        "    \"line\": lineGraphIntstruction,\n",
        "    \"pie\": pieChartIntstruction,\n",
        "    \"scatter\": scatterPlotIntstruction\n",
        "}"
      ]
    },
    {
      "cell_type": "markdown",
      "metadata": {
        "id": "mwXxmX5KGjlZ"
      },
      "source": [
        "Defining functions for node creation in graph"
      ]
    },
    {
      "cell_type": "markdown",
      "metadata": {
        "id": "BF3DhHZ4GrRw"
      },
      "source": [
        "To choose if graph creation is possible"
      ]
    },
    {
      "cell_type": "code",
      "execution_count": null,
      "metadata": {
        "id": "NTva4wguGeDg"
      },
      "outputs": [],
      "source": [
        "def choose_visualization(state):\n",
        "    \"\"\"Choose an appropriate visualization for the data.\"\"\"\n",
        "    question = state['question']\n",
        "    results = state['answer']\n",
        "    prompt = ChatPromptTemplate.from_messages([\n",
        "        (\"system\", '''\n",
        "You are an AI assistant that recommends appropriate data visualizations. Based on the user's question, SQL query, and query results, suggest the most suitable type of graph or chart to visualize the data. If no visualization is appropriate, indicate that.\n",
        "\n",
        "Available chart types and their use cases:\n",
        "- Bar Graphs: Best for comparing categorical data or showing changes over time when categories are discrete and the number of categories is more than 2. Use for questions like \"What are the sales figures for each product?\" or \"How does the population of cities compare? or \"What percentage of each city is male?\"\n",
        "- Horizontal Bar Graphs: Best for comparing categorical data or showing changes over time when the number of categories is small or the disparity between categories is large. Use for questions like \"Show the revenue of A and B?\" or \"How does the population of 2 cities compare?\" or \"How many men and women got promoted?\" or \"What percentage of men and what percentage of women got promoted?\" when the disparity between categories is large.\n",
        "- Scatter Plots: Useful for identifying relationships or correlations between two numerical variables or plotting distributions of data. Best used when both x axis and y axis are continuous. Use for questions like \"Plot a distribution of the fares (where the x axis is the fare and the y axis is the count of people who paid that fare)\" or \"Is there a relationship between advertising spend and sales?\" or \"How do height and weight correlate in the dataset? Do not use it for questions that do not have a continuous x axis.\"\n",
        "- Pie Charts: Ideal for showing proportions or percentages within a whole. Use for questions like \"What is the market share distribution among different companies?\" or \"What percentage of the total revenue comes from each product?\"\n",
        "- Line Graphs: Best for showing trends and distributionsover time. Best used when both x axis and y axis are continuous. Used for questions like \"How have website visits changed over the year?\" or \"What is the trend in temperature over the past decade?\". Do not use it for questions that do not have a continuous x axis or a time based x axis.\n",
        "\n",
        "Consider these types of questions when recommending a visualization:\n",
        "1. Aggregations and Summarizations (e.g., \"What is the average electricity consumption by month?\" - Line Graph)\n",
        "2. Comparisons (e.g., \"Compare the electricity generation with coal vs neuclear over the last year.\" - Line Graph)\n",
        "3. Plotting Distributions (e.g., \"Plot a distribution of the electricity generation using vaiorus means\" - Scatter Plot)\n",
        "4. Trends Over Time (e.g., \"What is the trend in the consumption of electricity over the past year?\" - Line Graph)\n",
        "5. Proportions (e.g., \"What is the average percenatge of electricity generation by all over the past year?\" - Pie Chart)\n",
        "6. Change Over Time(e.g, \"What is the average electricity consumption per month in the past year?\" - Bar Graph)\n",
        "\n",
        "Provide your response in the following format:\n",
        "Recommended Visualization: [Chart type or \"None\"]. ONLY use the following names: bar, horizontal_bar, line, pie, scatter, none\n",
        "Reason: [Brief explanation for your recommendation]\n",
        "'''),\n",
        "        (\"human\", '''\n",
        "User question: {question}\n",
        "Query results: {results}\n",
        "\n",
        "Recommend a visualization:'''),\n",
        "    ])\n",
        "\n",
        "    response = llm_manager.invoke(prompt, question=question, results=results)\n",
        "\n",
        "    lines = response.split('\\n')\n",
        "    visualization = lines[0].split(': ')[1]\n",
        "    reason = lines[1].split(': ')[1]\n",
        "\n",
        "    return {\"visualization\": visualization, \"visualization_reason\": reason}"
      ]
    },
    {
      "cell_type": "markdown",
      "metadata": {
        "id": "EteDPjzqG4C6"
      },
      "source": [
        "Format the data if there can be a graph plotted"
      ]
    },
    {
      "cell_type": "code",
      "execution_count": null,
      "metadata": {
        "id": "UymZzbAeG9Y7"
      },
      "outputs": [],
      "source": [
        "class DataFormatter:\n",
        "    def __init__(self):\n",
        "        self.llm_manager = LLMManager()\n",
        "\n",
        "    def format_data_for_visualization(self, state: dict) -> dict:\n",
        "        \"\"\"Format the data for the chosen visualization type.\"\"\"\n",
        "        visualization = state['visualization'].strip()\n",
        "        results = state['answer']\n",
        "        question = state['question']\n",
        "\n",
        "        if visualization == \"none\":\n",
        "            return {\"formatted_data_for_visualization\": None}\n",
        "\n",
        "        if visualization == \"scatter\":\n",
        "            try:\n",
        "                return self._format_scatter_data(results)\n",
        "            except Exception as e:\n",
        "                return self._format_other_visualizations(visualization, question, results)\n",
        "\n",
        "        if visualization == \"bar\" or visualization == \"horizontal_bar\":\n",
        "            try:\n",
        "                return self._format_bar_data(results, question)\n",
        "            except Exception as e:\n",
        "                return self._format_other_visualizations(visualization, question, results)\n",
        "\n",
        "        if visualization == \"line\":\n",
        "            try:\n",
        "                return self._format_line_data(results, question)\n",
        "            except Exception as e:\n",
        "                return self._format_other_visualizations(visualization, question, results)\n",
        "\n",
        "        return self._format_other_visualizations(visualization, question, results)\n",
        "\n",
        "    def _format_line_data(self, results, question):\n",
        "        if isinstance(results, str):\n",
        "            results = eval(results)\n",
        "\n",
        "        if len(results[0]) == 2:\n",
        "\n",
        "            x_values = [str(row[0]) for row in results]\n",
        "            y_values = [float(row[1]) for row in results]\n",
        "\n",
        "            # Use LLM to get a relevant label\n",
        "            prompt = ChatPromptTemplate.from_messages([\n",
        "                (\"system\", \"You are a data labeling expert. Given a question and some data, provide a concise and relevant label for the data series.\"),\n",
        "                (\"human\", \"Question: {question}\\n Data (first few rows): {data}\\n\\nProvide a concise label for this y axis. For example, if the data is the sales figures over time, the label could be 'Sales'. If the data is the population growth, the label could be 'Population'. If the data is the revenue trend, the label could be 'Revenue'.\"),\n",
        "            ])\n",
        "            label = self.llm_manager.invoke(prompt, question=question, data=str(results[:2]))\n",
        "\n",
        "            formatted_data = {\n",
        "                \"xValues\": x_values,\n",
        "                \"yValues\": [\n",
        "                    {\n",
        "                        \"data\": y_values,\n",
        "                        \"label\": label.strip()\n",
        "                    }\n",
        "                ]\n",
        "            }\n",
        "        elif len(results[0]) == 3:\n",
        "\n",
        "            # Group data by label\n",
        "            data_by_label = {}\n",
        "            x_values = []\n",
        "\n",
        "            # Get a list of unique labels\n",
        "            labels = list(set(item2 for item1, item2, item3 in results\n",
        "                              if isinstance(item2, str) and not item2.replace(\".\", \"\").isdigit() and \"/\" not in item2))\n",
        "\n",
        "            # If labels are not in the second position, check the first position\n",
        "            if not labels:\n",
        "                labels = list(set(item1 for item1, item2, item3 in results\n",
        "                                  if isinstance(item1, str) and not item1.replace(\".\", \"\").isdigit() and \"/\" not in item1))\n",
        "\n",
        "            for item1, item2, item3 in results:\n",
        "                # Determine which item is the label (string not convertible to float and not containing \"/\")\n",
        "                if isinstance(item1, str) and not item1.replace(\".\", \"\").isdigit() and \"/\" not in item1:\n",
        "                    label, x, y = item1, item2, item3\n",
        "                else:\n",
        "                    x, label, y = item1, item2, item3\n",
        "\n",
        "\n",
        "                if str(x) not in x_values:\n",
        "                    x_values.append(str(x))\n",
        "                if label not in data_by_label:\n",
        "                    data_by_label[label] = []\n",
        "                data_by_label[label].append(float(y))\n",
        "                print(labels)\n",
        "                for other_label in labels:\n",
        "                    if other_label != label:\n",
        "                        if other_label not in data_by_label:\n",
        "                            data_by_label[other_label] = []\n",
        "                        data_by_label[other_label].append(None)\n",
        "\n",
        "            # Create yValues array\n",
        "            y_values = [\n",
        "                {\n",
        "                    \"data\": data,\n",
        "                    \"label\": label\n",
        "                }\n",
        "                for label, data in data_by_label.items()\n",
        "            ]\n",
        "\n",
        "            formatted_data = {\n",
        "                \"xValues\": x_values,\n",
        "                \"yValues\": y_values,\n",
        "                \"yAxisLabel\": \"\"\n",
        "            }\n",
        "\n",
        "            # Use LLM to get a relevant label for the y-axis\n",
        "            prompt = ChatPromptTemplate.from_messages([\n",
        "                (\"system\", \"You are a data labeling expert. Given a question and some data, provide a concise and relevant label for the y-axis.\"),\n",
        "                (\"human\", \"Question: {question}\\n Data (first few rows): {data}\\n\\nProvide a concise label for the y-axis. For example, if the data represents sales figures over time for different categories, the label could be 'Sales'. If it's about population growth for different groups, it could be 'Population'.\"),\n",
        "            ])\n",
        "            y_axis_label = self.llm_manager.invoke(prompt, question=question, data=str(results[:2]))\n",
        "\n",
        "            # Add the y-axis label to the formatted data\n",
        "            formatted_data[\"yAxisLabel\"] = y_axis_label.strip()\n",
        "\n",
        "        return {\"formatted_data_for_visualization\": formatted_data}\n",
        "\n",
        "    def _format_scatter_data(self, results):\n",
        "        if isinstance(results, str):\n",
        "            results = eval(results)\n",
        "\n",
        "        formatted_data = {\"series\": []}\n",
        "\n",
        "        if len(results[0]) == 2:\n",
        "            formatted_data[\"series\"].append({\n",
        "                \"data\": [\n",
        "                    {\"x\": float(x), \"y\": float(y), \"id\": i+1}\n",
        "                    for i, (x, y) in enumerate(results)\n",
        "                ],\n",
        "                \"label\": \"Data Points\"\n",
        "            })\n",
        "        elif len(results[0]) == 3:\n",
        "            entities = {}\n",
        "            for item1, item2, item3 in results:\n",
        "                # Determine which item is the label (string not convertible to float and not containing \"/\")\n",
        "                if isinstance(item1, str) and not item1.replace(\".\", \"\").isdigit() and \"/\" not in item1:\n",
        "                    label, x, y = item1, item2, item3\n",
        "                else:\n",
        "                    x, label, y = item1, item2, item3\n",
        "                if label not in entities:\n",
        "                    entities[label] = []\n",
        "                entities[label].append({\"x\": float(x), \"y\": float(y), \"id\": len(entities[label])+1})\n",
        "\n",
        "            for label, data in entities.items():\n",
        "                formatted_data[\"series\"].append({\n",
        "                    \"data\": data,\n",
        "                    \"label\": label\n",
        "                })\n",
        "        else:\n",
        "            raise ValueError(\"Unexpected data format in results\")\n",
        "\n",
        "        return {\"formatted_data_for_visualization\": formatted_data}\n",
        "\n",
        "\n",
        "    def _format_bar_data(self, results, question):\n",
        "        if isinstance(results, str):\n",
        "            results = eval(results)\n",
        "\n",
        "        if len(results[0]) == 2:\n",
        "            # Simple bar chart with one series\n",
        "            labels = [str(row[0]) for row in results]\n",
        "            data = [float(row[1]) for row in results]\n",
        "\n",
        "            # Use LLM to get a relevant label\n",
        "            prompt = ChatPromptTemplate.from_messages([\n",
        "                (\"system\", \"You are a data labeling expert. Given a question and some data, provide a concise and relevant label for the data series.\"),\n",
        "                (\"human\", \"Question: {question}\\nData (first few rows): {data}\\n\\nProvide a concise label for this y axis. For example, if the data is the sales figures for products, the label could be 'Sales'. If the data is the population of cities, the label could be 'Population'. If the data is the revenue by region, the label could be 'Revenue'.\"),\n",
        "            ])\n",
        "            label = self.llm_manager.invoke(prompt, question=question, data=str(results[:2]))\n",
        "\n",
        "            values = [{\"data\": data, \"label\": label}]\n",
        "        elif len(results[0]) == 3:\n",
        "            # Grouped bar chart with multiple series\n",
        "            categories = set(row[1] for row in results)\n",
        "            labels = list(categories)\n",
        "            entities = set(row[0] for row in results)\n",
        "            values = []\n",
        "            for entity in entities:\n",
        "                entity_data = [float(row[2]) for row in results if row[0] == entity]\n",
        "                values.append({\"data\": entity_data, \"label\": str(entity)})\n",
        "        else:\n",
        "            raise ValueError(\"Unexpected data format in results\")\n",
        "\n",
        "        formatted_data = {\n",
        "            \"labels\": labels,\n",
        "            \"values\": values\n",
        "        }\n",
        "\n",
        "        return {\"formatted_data_for_visualization\": formatted_data}\n",
        "\n",
        "    def _format_other_visualizations(self, visualization, question, results):\n",
        "        instructions = graph_instructions[visualization]\n",
        "        prompt = ChatPromptTemplate.from_messages([\n",
        "            (\"system\", \"\"\"You are a Data expert who formats data according to the required needs.\n",
        "            You are given the question asked by the user and its answer in Result and the format you need to format the Result in.\"\"\"),\n",
        "            (\"human\", '''For the given question: {question}\n",
        "\n",
        "            and Result: {results}\n",
        "\n",
        "            Use the following example to structure the data in Result: {instructions}.\n",
        "            Just give the json string. Do not format it'''),\n",
        "        ])\n",
        "        response = self.llm_manager.invoke(prompt, question=question, results=results, instructions=instructions)\n",
        "\n",
        "        try:\n",
        "            formatted_data_for_visualization = json.loads(response)\n",
        "            return {\"formatted_data_for_visualization\": formatted_data_for_visualization}\n",
        "        except json.JSONDecodeError:\n",
        "            return {\"error\": \"Failed to format data for visualization\", \"raw_response\": response}"
      ]
    },
    {
      "cell_type": "markdown",
      "metadata": {
        "id": "3Eegng8oHLZE"
      },
      "source": [
        "Creating agent state class - this state will pass accross all the nodes in the graph"
      ]
    },
    {
      "cell_type": "code",
      "execution_count": null,
      "metadata": {
        "id": "JuQy8S_7HUFg"
      },
      "outputs": [],
      "source": [
        "class AgentState(TypedDict):\n",
        "    # The annotation tells the graph that new messages will always\n",
        "    # be added to the current states\n",
        "    messages: Annotated[Sequence[BaseMessage], operator.add]\n",
        "    # The 'next' field indicates where to route to next\n",
        "    next: str\n",
        "    question: str\n",
        "    answer:Annotated[str, operator.add]\n",
        "    visualization: Annotated[str, operator.add]\n",
        "    visualization_reason: Annotated[str, operator.add]\n",
        "    formatted_data_for_visualization: Dict[str, Any]\n",
        "    error: str"
      ]
    },
    {
      "cell_type": "markdown",
      "metadata": {
        "id": "kJCxPtNsH712"
      },
      "source": [
        "Creating all the agent node functions"
      ]
    },
    {
      "cell_type": "code",
      "execution_count": null,
      "metadata": {
        "id": "6ng9rm41HY5u"
      },
      "outputs": [],
      "source": [
        "def supervisor_agent(state):\n",
        "    supervisor_chain = (\n",
        "        prompt\n",
        "        | llm.with_structured_output(RouteResponse)\n",
        "    )\n",
        "    return supervisor_chain.invoke(state)\n",
        "\n",
        "\n",
        "def agent_node(state, agent, name):\n",
        "    query = state[\"messages\"][-1].content\n",
        "    response = agent.invoke({\"input\": query})\n",
        "    return {\"messages\": [AIMessage(content=response['output'], name=name)], \"question\" :query, \"answer\":response['output']}\n",
        "\n",
        "def simple_agent_node(state, name):\n",
        "    if \"question\" in state:\n",
        "        query = state[\"question\"]\n",
        "    else:\n",
        "        query = state[\"messages\"][-1].content\n",
        "\n",
        "    prompt_sa = PromptTemplate(\n",
        "        template=\"\"\"You are an expert in answering questions based on your knowledge.\n",
        "        Here is the Question:\n",
        "        {question}\n",
        "\n",
        "        Provide your answer in Text format and no preamble please.\n",
        "        \"\"\",\n",
        "        input_variables=[\"question\"],\n",
        "    )\n",
        "    simple_chain = prompt_sa | llm | StrOutputParser()\n",
        "    response_op = simple_chain.invoke({\"question\": query})\n",
        "    return {\"messages\": [AIMessage(content=response_op, name=name)], \"question\": query,\n",
        "            \"answer\": response_op}\n",
        "\n",
        "sql_node = functools.partial(agent_node, agent=agent, name=\"Sql_agent\")\n",
        "general_node = functools.partial(simple_agent_node, name=\"general_agent\")\n",
        "data_formatter = DataFormatter()"
      ]
    },
    {
      "cell_type": "markdown",
      "metadata": {
        "id": "yMTWuUQxINGG"
      },
      "source": [
        "Creating graph edges and defining nodes"
      ]
    },
    {
      "cell_type": "code",
      "execution_count": null,
      "metadata": {
        "id": "-CPs7b0nITcC"
      },
      "outputs": [],
      "source": [
        "workflow = StateGraph(AgentState)\n",
        "workflow.add_node(\"Sql_agent\", sql_node)\n",
        "workflow.add_node(\"general_agent\", general_node)\n",
        "workflow.add_node(\"supervisor\", supervisor_agent)\n",
        "workflow.add_node(\"choose_visualization\", choose_visualization)\n",
        "workflow.add_node(\"format_data_for_visualization\", data_formatter.format_data_for_visualization)\n",
        "conditional_map = {k: k for k in members}\n",
        "conditional_map[\"FINISH\"] = END\n",
        "workflow.add_conditional_edges(\"supervisor\", lambda x: x[\"next\"], conditional_map)\n",
        "workflow.add_edge(\"Sql_agent\", \"choose_visualization\")\n",
        "workflow.add_edge(\"choose_visualization\", \"format_data_for_visualization\")\n",
        "workflow.add_edge(\"format_data_for_visualization\", \"supervisor\")\n",
        "workflow.add_edge(\"general_agent\", \"supervisor\")\n",
        "# Finally, add entrypoint\n",
        "workflow.add_edge(START, \"supervisor\")\n",
        "\n",
        "graph = workflow.compile()\n"
      ]
    },
    {
      "cell_type": "markdown",
      "metadata": {
        "id": "6e9jwZmRLbfj"
      },
      "source": [
        "This is the agentic graph created"
      ]
    },
    {
      "cell_type": "code",
      "execution_count": null,
      "metadata": {
        "colab": {
          "base_uri": "https://localhost:8080/"
        },
        "id": "ktNLhyyVLawz",
        "outputId": "4b835277-124e-4a44-f892-feeee2fa2f87"
      },
      "outputs": [
        {
          "name": "stdout",
          "output_type": "stream",
          "text": [
            "                                         +-----------+                                    \n",
            "                                         | __start__ |                                    \n",
            "                                         +-----------+                                    \n",
            "                                                *                                         \n",
            "                                                *                                         \n",
            "                                                *                                         \n",
            "                                        +------------+                                    \n",
            "                                      **| supervisor |****                                \n",
            "                                ******  +------------+    ******                          \n",
            "                         *******        ..          .           *******                   \n",
            "                   ******             ..             ..                ******             \n",
            "               ****                 ..                 .                     ******       \n",
            "+---------------+           +---------+           +-----------+                    ****   \n",
            "| general_agent |           | __end__ |           | Sql_agent |                       *   \n",
            "+---------------+           +---------+           +-----------+                       *   \n",
            "                                                        *                             *   \n",
            "                                                        *                             *   \n",
            "                                                        *                             *   \n",
            "                                            +----------------------+                 **   \n",
            "                                            | choose_visualization |               **     \n",
            "                                            +----------------------+             **       \n",
            "                                                               ***            ***         \n",
            "                                                                  **        **            \n",
            "                                                                    **    **              \n",
            "                                                       +-------------------------------+  \n",
            "                                                       | format_data_for_visualization |  \n",
            "                                                       +-------------------------------+  \n"
          ]
        }
      ],
      "source": [
        "print(graph.get_graph().draw_ascii())"
      ]
    },
    {
      "cell_type": "markdown",
      "metadata": {
        "id": "jrxoZw09IdXE"
      },
      "source": [
        "Function to execute the graph"
      ]
    },
    {
      "cell_type": "code",
      "execution_count": null,
      "metadata": {
        "id": "PNpGiafIIiRF"
      },
      "outputs": [],
      "source": [
        "def get_answers(query, graph=graph):\n",
        "    answer = None\n",
        "    graph_type = None\n",
        "    graph_values = None\n",
        "    for s in graph.stream({\"messages\": [HumanMessage(content=query)]}):\n",
        "        print(\"@\"*100)\n",
        "        print(s)\n",
        "        print(\"@\"*100)\n",
        "        if 'Sql_agent' in s:\n",
        "            answer = s['Sql_agent'][\"answer\"]\n",
        "        elif 'general_agent' in s:\n",
        "            answer = s['general_agent'][\"answer\"]\n",
        "        if 'choose_visualization' in s:\n",
        "            graph_type = s['choose_visualization'][\"visualization\"]\n",
        "            graph_type = graph_type.strip()\n",
        "        if 'format_data_for_visualization' in s:\n",
        "            graph_values = s[\"format_data_for_visualization\"][\"formatted_data_for_visualization\"]\n",
        "    return answer, graph_type, graph_values"
      ]
    },
    {
      "cell_type": "code",
      "execution_count": null,
      "metadata": {
        "colab": {
          "base_uri": "https://localhost:8080/"
        },
        "id": "_t2YUEMjIkxn",
        "outputId": "eb06d600-3cb2-4ca8-f593-b794181c9602"
      },
      "outputs": [
        {
          "name": "stdout",
          "output_type": "stream",
          "text": [
            "Over the past 5 years, the months that have historically experienced demand surges, with demand exceeding total state generation, are primarily in September. Here are the details:\n",
            "\n",
            "1. **September 2020**\n",
            "   - Total Generation: 320.97\n",
            "   - Total Demand: 322.55\n",
            "\n",
            "2. **September 2021**\n",
            "   - Total Generation: 335.27\n",
            "   - Total Demand: 336.44\n",
            "\n",
            "3. **September 2022**\n",
            "   - Total Generation: 339.01\n",
            "   - Total Demand: 340.54\n",
            "\n",
            "4. **September 2023**\n",
            "   - Total Generation: 345.96\n",
            "   - Total Demand: 346.13\n",
            "\n",
            "5. **September 2024**\n",
            "   - Total Generation: 343.31\n",
            "   - Total Demand: 345.62\n",
            "\n",
            "6. **September 2025**\n",
            "   - Total Generation: 354.54\n",
            "   - Total Demand: 356.80\n",
            "\n",
            "These results indicate a consistent pattern of demand exceeding generation in September across the years analyzed.\n",
            "****************************************************************************************************\n",
            "line\n",
            "{'xValues': ['2020', '2021', '2022', '2023', '2024', '2025'], 'yValues': [{'data': [322.55, 336.44, 340.54, 346.13, 345.62, 356.8], 'label': 'Total Demand'}, {'data': [320.97, 335.27, 339.01, 345.96, 343.31, 354.54], 'label': 'Total Generation'}]}\n"
          ]
        }
      ],
      "source": [
        "answer, graph_type, graph_values = get_answers(\"Which months have, historically, experienced demand surges, with demand exceeding total state generation over the past 5 years?\")\n",
        "print(answer)\n",
        "print(\"*\"*100)\n",
        "print(graph_type)\n",
        "print(graph_values)"
      ]
    },
    {
      "cell_type": "code",
      "execution_count": null,
      "metadata": {
        "colab": {
          "base_uri": "https://localhost:8080/"
        },
        "id": "I7rg8L0e8RVO",
        "outputId": "ba9bd3cd-7571-4f90-d083-a8460d7836ae"
      },
      "outputs": [
        {
          "name": "stdout",
          "output_type": "stream",
          "text": [
            "The average electricity consumption per month in the past year is as follows:\n",
            "\n",
            "| Month | Average Consumption (All Sectors) |\n",
            "|-------|------------------------------------|\n",
            "| January   | 343.64 kWh                       |\n",
            "| February  | 302.32 kWh                       |\n",
            "| March     | 300.63 kWh                       |\n",
            "| April     | 287.67 kWh                       |\n",
            "| May       | 312.99 kWh                       |\n",
            "| June      | 351.60 kWh                       |\n",
            "| July      | 397.91 kWh                       |\n",
            "| August    | 397.53 kWh                       |\n",
            "| September | 351.21 kWh                       |\n",
            "| October   | 318.03 kWh                       |\n",
            "| November  | 300.74 kWh                       |\n",
            "| December  | 319.98 kWh                       |\n",
            "\n",
            "This data shows the average monthly electricity consumption across all sectors for each month over the past year. \n",
            "\n",
            "Unfortunately, I cannot create a bar chart directly, but you can use this data to create one using any data visualization tool or software like Excel, Google Sheets, or Python libraries such as Matplotlib or Seaborn.\n",
            "****************************************************************************************************\n",
            "line\n",
            "{'xValues': ['January', 'February', 'March', 'April', 'May', 'June', 'July', 'August', 'September', 'October', 'November', 'December'], 'yValues': [{'data': [343.64, 302.32, 300.63, 287.67, 312.99, 351.6, 397.91, 397.53, 351.21, 318.03, 300.74, 319.98], 'label': 'Average Consumption (All Sectors)'}]}\n"
          ]
        }
      ],
      "source": [
        "answer, graph_type, graph_values = get_answers(\"What is the average electricy consumption per month in the past year? Also give me a bar chart.\")\n",
        "print(answer)\n",
        "print(\"*\"*100)\n",
        "print(graph_type)\n",
        "print(graph_values)"
      ]
    },
    {
      "cell_type": "code",
      "execution_count": null,
      "metadata": {
        "colab": {
          "base_uri": "https://localhost:8080/"
        },
        "id": "qgntcyI647Tb",
        "outputId": "7cf967e4-d30c-4b1c-acb5-d068071f7c7b"
      },
      "outputs": [
        {
          "name": "stdout",
          "output_type": "stream",
          "text": [
            "```python\n",
            "def fibonacci(n):\n",
            "    sequence = []\n",
            "    a, b = 0, 1\n",
            "    for _ in range(n):\n",
            "        sequence.append(a)\n",
            "        a, b = b, a + b\n",
            "    return sequence\n",
            "\n",
            "# Example usage:\n",
            "n = 10  # Change this value for more or fewer Fibonacci numbers\n",
            "print(fibonacci(n))\n",
            "```\n",
            "****************************************************************************************************\n",
            "None\n",
            "None\n"
          ]
        }
      ],
      "source": [
        "answer, graph_type, graph_values = get_answers(\"Give me a python code for generating Fibonacci sequence.\")\n",
        "print(answer)\n",
        "print(\"*\"*100)\n",
        "print(graph_type)\n",
        "print(graph_values)"
      ]
    },
    {
      "cell_type": "markdown",
      "metadata": {
        "id": "U7RbPN8jIwY0"
      },
      "source": [
        "Printing the answer and showing the plotted graph"
      ]
    },
    {
      "cell_type": "code",
      "execution_count": null,
      "metadata": {
        "colab": {
          "base_uri": "https://localhost:8080/",
          "height": 953
        },
        "id": "GJBEQi5WInxK",
        "outputId": "460b7672-1d5b-40db-fa82-90fa4f7e9655"
      },
      "outputs": [
        {
          "name": "stdout",
          "output_type": "stream",
          "text": [
            "This is your answer:\n",
            "Over the past 5 years, the months that have historically experienced demand surges, where the total demand exceeded the total state generation, are primarily in September. Here are the details:\n",
            "\n",
            "1. **September 2020**\n",
            "   - Total Demand: 322.55\n",
            "   - Total Generation: 320.97\n",
            "\n",
            "2. **September 2021**\n",
            "   - Total Demand: 336.44\n",
            "   - Total Generation: 335.27\n",
            "\n",
            "3. **September 2022**\n",
            "   - Total Demand: 340.54\n",
            "   - Total Generation: 339.01\n",
            "\n",
            "4. **September 2023**\n",
            "   - Total Demand: 346.13\n",
            "   - Total Generation: 345.96\n",
            "\n",
            "5. **September 2024**\n",
            "   - Total Demand: 345.62\n",
            "   - Total Generation: 343.31\n",
            "\n",
            "6. **September 2025**\n",
            "   - Total Demand: 356.80\n",
            "   - Total Generation: 354.54\n",
            "\n",
            "These figures indicate a consistent trend of increased demand in September, surpassing the generation capacity during these years.\n",
            "****************************************************************************************************\n"
          ]
        },
        {
          "data": {
            "image/png": "[encoded data removed]",
            "text/plain": [
              "<Figure size 640x480 with 2 Axes>"
            ]
          },
          "metadata": {},
          "output_type": "display_data"
        }
      ],
      "source": [
        "print(\"This is your answer:\")\n",
        "print(answer)\n",
        "print(\"*\"*100)\n",
        "\n",
        "if graph_type == 'line':\n",
        "    fig, ax1 = plt.subplots()\n",
        "    x = graph_values[\"xValues\"]\n",
        "    yvalues = graph_values[\"yValues\"]\n",
        "    y = yvalues[0]['data']\n",
        "    y_label = yvalues[0]['label']\n",
        "    ax1.plot(x, y, color='blue', label='Close Price')\n",
        "    ax1.set_xlabel('')\n",
        "    ax1.set_ylabel(y_label, color='blue')\n",
        "    ax1.tick_params(axis='y', labelcolor='blue')\n",
        "    if len(yvalues) > 1:\n",
        "        # Create a twin axis for the High_minus_Low variable\n",
        "        ax2 = ax1.twinx()\n",
        "        ax2.plot(x,yvalues[1]['data'], color='green', label='High - Low')\n",
        "        ax2.set_ylabel( yvalues[1]['label'], color='green')\n",
        "        ax2.tick_params(axis='y', labelcolor='green')\n",
        "    plt.show()\n",
        "elif graph_type == 'pie' or graph_type == 'bar':\n",
        "    fig, ax = plt.subplots()\n",
        "    labels = []\n",
        "    values = []\n",
        "    for i in graph_values:\n",
        "        labels.append(i[\"label\"])\n",
        "        values.append(abs(i[\"value\"]))\n",
        "    ax.bar(labels, values)\n",
        "    # show plot\n",
        "    plt.xticks(rotation='vertical')\n",
        "    plt.show()"
      ]
    },
    {
      "cell_type": "markdown",
      "metadata": {
        "id": "ypPcFbsPMP69"
      },
      "source": [
        "Now we will create a vanilla chat application which can talk to the data"
      ]
    },
    {
      "cell_type": "markdown",
      "metadata": {
        "id": "8rBXfR-dMr7V"
      },
      "source": [
        "Importing and configuring NgRock"
      ]
    },
    {
      "cell_type": "code",
      "execution_count": null,
      "metadata": {
        "colab": {
          "base_uri": "https://localhost:8080/"
        },
        "id": "X_cSmhX-MvyA",
        "outputId": "c8d35526-ffff-48b7-aa25-99a07b415e46"
      },
      "outputs": [
        {
          "name": "stdout",
          "output_type": "stream",
          "text": [
            "Authtoken saved to configuration file: /root/.config/ngrok/ngrok.yml\n"
          ]
        }
      ],
      "source": [
        "from pyngrok import ngrok\n",
        "!ngrok config add-authtoken <ngrok key>"
      ]
    },
    {
      "cell_type": "markdown",
      "metadata": {
        "id": "FP8wIdeQM4Ha"
      },
      "source": [
        "starting streamlit application"
      ]
    },
    {
      "cell_type": "code",
      "execution_count": null,
      "metadata": {
        "colab": {
          "base_uri": "https://localhost:8080/"
        },
        "id": "gb80qhidM7SB",
        "outputId": "ae9e927e-b0c6-4471-8cbf-490bdd5028c4"
      },
      "outputs": [
        {
          "name": "stdout",
          "output_type": "stream",
          "text": [
            "79880\n"
          ]
        }
      ],
      "source": [
        "!streamlit run app.py &>logs.txt &\n",
        "!pgrep streamlit"
      ]
    },
    {
      "cell_type": "code",
      "execution_count": null,
      "metadata": {
        "id": "mhkk2Kvg9LUK"
      },
      "outputs": [],
      "source": [
        "!pgrep streamlit\n",
        "#!kill 78249"
      ]
    },
    {
      "cell_type": "markdown",
      "metadata": {
        "id": "I2T9WTb0NIQC"
      },
      "source": [
        "Publishing the streamlit application"
      ]
    },
    {
      "cell_type": "code",
      "execution_count": null,
      "metadata": {
        "colab": {
          "base_uri": "https://localhost:8080/"
        },
        "id": "OiKUILaFNMlF",
        "outputId": "0af09deb-50d6-4256-df75-62afdf1ab537"
      },
      "outputs": [
        {
          "data": {
            "text/plain": [
              "<NgrokTunnel: \"https://c288-34-169-71-121.ngrok-free.app\" -> \"http://localhost:8501\">"
            ]
          },
          "execution_count": 27,
          "metadata": {},
          "output_type": "execute_result"
        }
      ],
      "source": [
        "public_url = ngrok.connect(\"http://localhost:8501\")\n",
        "public_url"
      ]
    },
    {
      "cell_type": "code",
      "execution_count": null,
      "metadata": {
        "colab": {
          "base_uri": "https://localhost:8080/"
        },
        "id": "u_RRmGjRM8LM",
        "outputId": "ee47417b-e6ee-4a8b-8283-8b7ddcce2fb2"
      },
      "outputs": [
        {
          "name": "stdout",
          "output_type": "stream",
          "text": [
            "Writing app.py\n"
          ]
        }
      ],
      "source": []
    },
    {
      "cell_type": "code",
      "execution_count": null,
      "metadata": {
        "id": "3fClMebPMdwy"
      },
      "outputs": [],
      "source": []
    },
    {
      "cell_type": "code",
      "execution_count": null,
      "metadata": {
        "id": "Rq0fxi0qMNTE"
      },
      "outputs": [],
      "source": []
    }
  ],
  "metadata": {
    "colab": {
      "provenance": [],
      "include_colab_link": true
    },
    "kernelspec": {
      "display_name": "Python 3 (ipykernel)",
      "language": "python",
      "name": "python3"
    },
    "language_info": {
      "codemirror_mode": {
        "name": "ipython",
        "version": 3
      },
      "file_extension": ".py",
      "mimetype": "text/x-python",
      "name": "python",
      "nbconvert_exporter": "python",
      "pygments_lexer": "ipython3",
      "version": "3.12.5"
    }
  },
  "nbformat": 4,
  "nbformat_minor": 0
}